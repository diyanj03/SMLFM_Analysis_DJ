{
 "cells": [
  {
   "cell_type": "markdown",
   "metadata": {},
   "source": [
    "#### Defining root directory and importing packages (Cell 1):"
   ]
  },
  {
   "cell_type": "code",
   "execution_count": null,
   "metadata": {},
   "outputs": [],
   "source": [
    "# Cell 1: \n",
    "\n",
    "root_dir = r'C:/your/path/to/lfmSPTanalysis-main' # set this as your absolute path to lfmSPTanalysis-main\n",
    "\n",
    "\n",
    "from my_package import fitting_2D, fitting_3D, optimising_3DFit, processing_3Dlocs, smTracking, analysingTracks, summarise_analysis, resplot, copy_project\n",
    "import os, matplotlib.pyplot as plt"
   ]
  },
  {
   "cell_type": "markdown",
   "metadata": {},
   "source": [
    "## 2D Fitting using ImageJ GDSC PeakFit (Cell 2): "
   ]
  },
  {
   "cell_type": "code",
   "execution_count": null,
   "metadata": {},
   "outputs": [],
   "source": [
    "# Cell 2:\n",
    "# Refer to README.md section 2.2 for more information about running this cell.\n",
    "\n",
    "source_path = r\"C:/path/to/your/input/file/or/folder\" # absolute path to your input file or folder. \n",
    "\n",
    "runLoop = False # set to False if your source path is 1) a single image stack OR 2) a single directory containing multiple image stacks of the same FOV.\n",
    "                # set to True if your source path is a folder containing multiple image stacks of different FOVs, all to be analysed in one go.\n",
    "\n",
    "config_name = 'fitting2D_config.json' # name of the config file from the 'configs' folder to be used for 2D fitting. Include '.json'\n",
    "# can change 2D fitting settings (including PeakFit parameters) by opening and modifying the 'configs/fitting2D_config.json' file.\n",
    "\n",
    "fiji_path = r'C:\\Users\\username\\Applications\\Fiji.app'  # path to your Fiji.app installation from README.md step 1.2\n",
    "\n",
    "\n",
    "if runLoop:\n",
    "    fitting_2D.gdsc_peakFit(source_path, runLoop, fiji_path, root_dir, config_name) # returns nothing\n",
    "else:\n",
    "    return_locs2D_path, mc = fitting_2D.gdsc_peakFit(source_path, runLoop, fiji_path, root_dir, config_name)"
   ]
  },
  {
   "cell_type": "markdown",
   "metadata": {},
   "source": [
    "## 3D Fitting using PySMLFM (Cell 3):"
   ]
  },
  {
   "cell_type": "code",
   "execution_count": null,
   "metadata": {},
   "outputs": [],
   "source": [
    "# Cell 3:\n",
    "# Refer to README.md section 2.3 for more information about running this cell. Credits to https://github.com/Photometrics/PySMLFM for the 3D fitting package.\n",
    "\n",
    "runLoop = False # set to False to run this for a single 2D localisation csv file. If false, then define locs2D_path accordingly. \n",
    "                # set to True to batch process all 2D localisation csv files in the 'data/2D_locs_csv/' folder.\n",
    "\n",
    "locs2D_path = return_locs2D_path # set as locs2D csv path returned from Cell 2.\n",
    "# if locs2D_path from cell 2 is lost, set this as the abosulte path of your 2D localisation csv file from the 'data/2D_locs_csv/' folder, e.g.:\n",
    "# locs2D_path = r'C:/your/path/to/lfmSPTanalysis-main/data/2D_locs_csv/your_locs2D.csv'\n",
    "\n",
    "cfg_name = 'fitting3D_config.json' # name of the config file from the 'configs' folder to be used for 3D fitting. Include '.json'\n",
    "# can change 3D fitting settings by opening and modifying the file within the configs folder.\n",
    "\n",
    "\n",
    "plt.close('all')\n",
    "%matplotlib inline\n",
    "if runLoop:\n",
    "    fitting_3D.batchFittingAxialLocs(root_dir, cfg_name) # returns nothing\n",
    "else:\n",
    "    return_locs3D_path = fitting_3D.fittingAxialLocs(locs2D_path, root_dir, cfg_name)[0] "
   ]
  },
  {
   "cell_type": "markdown",
   "metadata": {},
   "source": [
    "### Optimising MLA alignment for 3D Fitting (Cell 4):"
   ]
  },
  {
   "cell_type": "code",
   "execution_count": null,
   "metadata": {},
   "outputs": [],
   "source": [
    "# Cell 4: \n",
    "# Refer to README.md section 2.4 for more information about running this cell.\n",
    "\n",
    "locs2D_path = r'C:/path/to/lfmSPTanalysis-main/data/2D_locs_csv/file.csv' # absolute path to the 2D localisation csv file to be used for optimising 3D fitting alignment.\n",
    "\n",
    "base_cfg_name = 'fitting3D_config.json' # name of the config file from the 'configs' folder to be used as a base for the optimisation. Include '.json'\n",
    "# ensure that this base config file has the 'show_graphs' parameter set to False. \n",
    "\n",
    "# defining search bounds (min, max) for the parameters to be optimised. offset limits in microns.\n",
    "rotation_search = (-5,5)\n",
    "x_offset_search = (-10,10) \n",
    "y_offset_search = (-5,15)\n",
    "\n",
    "# params for running gp_minimize() - bayesian optimisation using a gaussian process.\n",
    "n_calls = 150\n",
    "n_initial_points = 30\n",
    "\n",
    "\n",
    "\n",
    "optimising_3DFit.optimise_MLA_alignment(root_dir, [rotation_search,x_offset_search,y_offset_search], locs2D_path, base_cfg_name, n_calls = n_calls, n_initial_points=n_initial_points)"
   ]
  },
  {
   "cell_type": "markdown",
   "metadata": {},
   "source": [
    "## Plotting 3D Localisations (Cell 5):"
   ]
  },
  {
   "cell_type": "code",
   "execution_count": null,
   "metadata": {},
   "outputs": [],
   "source": [
    "# Cell 5 (Plotting scatter 3D locs for qualitative inspection):\n",
    "# Refer to README.md section 2.5 for more information about running this cell.\n",
    "\n",
    "fm_locs3D_path = return_locs3D_path # set as locs3D csv path returned from Cell 3.\n",
    "# alternatively set this as the abosulte path of your 3D localisation csv file from the 'data/formatted_3Dlocs/' folder, e.g.:\n",
    "# fm_locs3D_path = r'C:/your/path/to/lfmSPTanalysis-main/data/formatted_3Dlocs/your_locs3D_formatted.csv'\n",
    "\n",
    "\n",
    "\n",
    "%matplotlib qt\n",
    "data_bounds, fm_path = processing_3Dlocs.plot_3Dlocs(fm_locs3D_path)\n"
   ]
  },
  {
   "cell_type": "markdown",
   "metadata": {},
   "source": [
    "## Cropping 3D Localisations (Cell 6):"
   ]
  },
  {
   "cell_type": "code",
   "execution_count": null,
   "metadata": {},
   "outputs": [],
   "source": [
    "# Cell 6 (cropping 3D localisations):\n",
    "# Refer to README.md section 2.6 for more information about running this cell.\n",
    "\n",
    "# set these as your cropping boundaries (in microns) for the dataset plotted from cell 6.\n",
    "# if no cropping needed for the upper or lower bound of a certain axis, set as None.\n",
    "x_min = None\n",
    "x_max = None\n",
    "y_min = None\n",
    "y_max = None\n",
    "z_min = 2\n",
    "z_max = None\n",
    "\n",
    "\n",
    "\n",
    "processing_3Dlocs.crop_3Dlocs(root_dir, fm_path, data_bounds, [x_min,x_max,y_min,y_max,z_min,z_max])"
   ]
  },
  {
   "cell_type": "markdown",
   "metadata": {},
   "source": [
    "## Single particle tracking (cell 7):"
   ]
  },
  {
   "cell_type": "code",
   "execution_count": null,
   "metadata": {},
   "outputs": [],
   "source": [
    "# Cell 7:\n",
    "# Refer to README.md section 2.7 for more information about inputs. credits to https://github.com/wb104/trajectory-analysis for tracking code.\n",
    "\n",
    "# Runs analysis for all cropped_locs3D.csv files from the 'data/cropped_3Dlocs' folder.\n",
    "\n",
    "smTracking.sm_tracking(root_dir)"
   ]
  },
  {
   "cell_type": "markdown",
   "metadata": {},
   "source": [
    "## Analysing tracking data via MATLAB (cell 8):"
   ]
  },
  {
   "cell_type": "code",
   "execution_count": null,
   "metadata": {},
   "outputs": [],
   "source": [
    "# Cell 8:\n",
    "# Refer to the README.md section 2.8 for more information.\n",
    "\n",
    "# to edit parameters, open the \"\\src\\AnalyzeTrackingData_withDirection_master.m\" script, edit, and save.\n",
    "# running this cell will input all csv files in the \"\\data\\tracks\" directory so ensure it only contains track files for a single sample/condition.\n",
    "\n",
    "analysingTracks.matlab_trackingDataAnalysis(root_dir)\n",
    "# Output: an output folder within the 'results/' directory named after the data & time of the analysis.\n"
   ]
  },
  {
   "cell_type": "markdown",
   "metadata": {},
   "source": [
    "## Plotting distributions of TF biophysical parameters + summarising analysis (cells 9-10):"
   ]
  },
  {
   "cell_type": "markdown",
   "metadata": {},
   "source": [
    "##### Single Sample/Condition (cell 9):"
   ]
  },
  {
   "cell_type": "code",
   "execution_count": null,
   "metadata": {},
   "outputs": [],
   "source": [
    "# Cell 9:\n",
    "# Generating summary of analysis (data processing) for a single sample type. \n",
    "# Generating per FOV distibution plots for TF biophysical parameters for a single sample type.\n",
    "\n",
    "results_dir = r'path/to/lfmSPTanalysis-main/results/matlab_output_directory/' # absolute path to the matlab output directory generated from Cell 8.\n",
    "\n",
    "sample_name = 'sample/condition_name' # name of the sample type you are analysing.\n",
    "\n",
    "%matplotlib qt\n",
    "summarise_analysis.compile_stats(results_dir, sample_name, root_dir)\n",
    "resplot.batchProcess_jitterSingle(results_dir, sample_name, root_dir)"
   ]
  },
  {
   "cell_type": "markdown",
   "metadata": {},
   "source": [
    "##### Comparing Samples/Conditions (cell 10):"
   ]
  },
  {
   "cell_type": "code",
   "execution_count": null,
   "metadata": {},
   "outputs": [],
   "source": [
    "# Cell 10:\n",
    "# Generating per FOV distibution plots for TF biophysical parameters for n sample types and statistically comparing them. e.g. n=3:\n",
    "\n",
    "results_dirs = [r'path/to/lfmSPTanalysis-main/results/matlab_output_directory_of_sample1/', \n",
    "                r'path/to/lfmSPTanalysis-main/results/matlab_output_directory_of_sample2/',\n",
    "                r'path/to/lfmSPTanalysis-main/results/matlab_output_directory_of_sample3/']\n",
    "# list of absolute paths to the results directories generated from Cell 8 for the sample types you are comparing.\n",
    "\n",
    "summary_csvs = [r'path/to/lfmSPTanalysis-main/results/sample1_name/analysisSummary/sample1_name_stats_summary.csv', \n",
    "                r'path/to/lfmSPTanalysis-main/results/sample1_name/analysisSummary/sample2_name_stats_summary.csv',\n",
    "                r'path/to/lfmSPTanalysis-main/results/sample1_name/analysisSummary/sample3_name_stats_summary.csv']\n",
    "# list of absolute paths to the stats csv file generated from Cell 9 for the sample types you are comparing.\n",
    "\n",
    "sample_names = ['sample1_name', 'sample2_name', 'sample3_name'] # list of names of the sample types you are comparing in the same order as the list of results_dirs provided.\n",
    "\n",
    "%matplotlib qt\n",
    "summarise_analysis.jitter_pipelineStats(summary_csvs, sample_names, root_dir)\n",
    "resplot.batchProcess_jitterMulti_sx(results_dirs, sample_names, root_dir)\n",
    "resplot.plotAssociationValues(results_dirs, sample_names, root_dir)"
   ]
  },
  {
   "cell_type": "markdown",
   "metadata": {},
   "source": [
    "## Saving data and results (cell 11):"
   ]
  },
  {
   "cell_type": "code",
   "execution_count": null,
   "metadata": {},
   "outputs": [],
   "source": [
    "# Cell 11:\n",
    "\n",
    "# copy the 'data' and 'results' folders to a destination folder. can then empty workspace and start new project.\n",
    "\n",
    "destination_dir = '' # provide path to destination folder\n",
    "copy_project(root_dir, destination_dir)"
   ]
  }
 ],
 "metadata": {
  "kernelspec": {
   "display_name": ".venv",
   "language": "python",
   "name": "python3"
  },
  "language_info": {
   "codemirror_mode": {
    "name": "ipython",
    "version": 3
   },
   "file_extension": ".py",
   "mimetype": "text/x-python",
   "name": "python",
   "nbconvert_exporter": "python",
   "pygments_lexer": "ipython3",
   "version": "3.13.2"
  }
 },
 "nbformat": 4,
 "nbformat_minor": 2
}
